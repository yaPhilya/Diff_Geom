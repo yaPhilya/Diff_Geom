{
 "cells": [
  {
   "cell_type": "code",
   "execution_count": 1,
   "metadata": {
    "collapsed": true
   },
   "outputs": [],
   "source": [
    "import sympy as sp"
   ]
  },
  {
   "cell_type": "code",
   "execution_count": 2,
   "metadata": {
    "collapsed": false
   },
   "outputs": [],
   "source": [
    "sp.init_printing()"
   ]
  },
  {
   "cell_type": "code",
   "execution_count": 3,
   "metadata": {
    "collapsed": true
   },
   "outputs": [],
   "source": [
    "u, v = sp.symbols('u v', real=True)"
   ]
  },
  {
   "cell_type": "code",
   "execution_count": 4,
   "metadata": {
    "collapsed": false
   },
   "outputs": [
    {
     "data": {
      "text/latex": [
       "$$\\left[\\begin{matrix}2 \\sin{\\left (v \\right )} \\cos{\\left (u \\right )} \\cos{\\left (v \\right )}\\\\\\sin{\\left (v \\right )}\\\\2 \\sin{\\left (u \\right )} \\sin{\\left (v \\right )} \\cos{\\left (v \\right )}\\end{matrix}\\right]$$"
      ],
      "text/plain": [
       "⎡2⋅sin(v)⋅cos(u)⋅cos(v)⎤\n",
       "⎢                      ⎥\n",
       "⎢        sin(v)        ⎥\n",
       "⎢                      ⎥\n",
       "⎣2⋅sin(u)⋅sin(v)⋅cos(v)⎦"
      ]
     },
     "execution_count": 4,
     "metadata": {},
     "output_type": "execute_result"
    }
   ],
   "source": [
    "#восьмерка\n",
    "x = sp.cos(u) * (2 * sp.sin(v) * sp.cos(v)) \n",
    "y = sp.sin(v) \n",
    "z = sp.sin(u) * (2 * sp.sin(v) * sp.cos(v))\n",
    "r = sp.Matrix([x, y, z])\n",
    "r"
   ]
  },
  {
   "cell_type": "code",
   "execution_count": 5,
   "metadata": {
    "collapsed": false
   },
   "outputs": [
    {
     "data": {
      "text/latex": [
       "$$\\left ( \\left[\\begin{matrix}- 2 \\sin{\\left (u \\right )} \\sin{\\left (v \\right )} \\cos{\\left (v \\right )}\\\\0\\\\2 \\sin{\\left (v \\right )} \\cos{\\left (u \\right )} \\cos{\\left (v \\right )}\\end{matrix}\\right], \\quad \\left[\\begin{matrix}- 2 \\sin^{2}{\\left (v \\right )} \\cos{\\left (u \\right )} + 2 \\cos{\\left (u \\right )} \\cos^{2}{\\left (v \\right )}\\\\\\cos{\\left (v \\right )}\\\\- 2 \\sin{\\left (u \\right )} \\sin^{2}{\\left (v \\right )} + 2 \\sin{\\left (u \\right )} \\cos^{2}{\\left (v \\right )}\\end{matrix}\\right]\\right )$$"
      ],
      "text/plain": [
       "⎛                           ⎡       2                         2   ⎤⎞\n",
       "⎜⎡-2⋅sin(u)⋅sin(v)⋅cos(v)⎤  ⎢- 2⋅sin (v)⋅cos(u) + 2⋅cos(u)⋅cos (v)⎥⎟\n",
       "⎜⎢                       ⎥  ⎢                                     ⎥⎟\n",
       "⎜⎢           0           ⎥, ⎢               cos(v)                ⎥⎟\n",
       "⎜⎢                       ⎥  ⎢                                     ⎥⎟\n",
       "⎜⎣2⋅sin(v)⋅cos(u)⋅cos(v) ⎦  ⎢              2                  2   ⎥⎟\n",
       "⎝                           ⎣- 2⋅sin(u)⋅sin (v) + 2⋅sin(u)⋅cos (v)⎦⎠"
      ]
     },
     "execution_count": 5,
     "metadata": {},
     "output_type": "execute_result"
    }
   ],
   "source": [
    "#канонический базис\n",
    "e_1 = sp.diff(r, u)\n",
    "e_2 = sp.diff(r, v)\n",
    "e_1, e_2"
   ]
  },
  {
   "cell_type": "code",
   "execution_count": 6,
   "metadata": {
    "collapsed": false
   },
   "outputs": [
    {
     "data": {
      "text/latex": [
       "$$\\left[\\begin{matrix}- \\frac{1}{2} \\cos{\\left (4 v \\right )} + \\frac{1}{2} & 0\\\\0 & 16 \\sin^{4}{\\left (v \\right )} - 17 \\sin^{2}{\\left (v \\right )} + 5\\end{matrix}\\right]$$"
      ],
      "text/plain": [
       "⎡  cos(4⋅v)   1                             ⎤\n",
       "⎢- ──────── + ─               0             ⎥\n",
       "⎢     2       2                             ⎥\n",
       "⎢                                           ⎥\n",
       "⎢                      4            2       ⎥\n",
       "⎣      0         16⋅sin (v) - 17⋅sin (v) + 5⎦"
      ]
     },
     "execution_count": 6,
     "metadata": {},
     "output_type": "execute_result"
    }
   ],
   "source": [
    "#первая квадратичная форма\n",
    "first_form = sp.Matrix([[e_1.dot(e_1), e_1.dot(e_2)], [e_2.dot(e_1), e_2.dot(e_2)]])\n",
    "first_form.simplify()\n",
    "first_form"
   ]
  },
  {
   "cell_type": "code",
   "execution_count": 7,
   "metadata": {
    "collapsed": false
   },
   "outputs": [
    {
     "data": {
      "text/latex": [
       "$$\\left[\\begin{matrix}- 2 \\sin{\\left (v \\right )} \\cos{\\left (u \\right )} \\cos^{2}{\\left (v \\right )}\\\\\\sin{\\left (4 v \\right )}\\\\- 2 \\sin{\\left (u \\right )} \\sin{\\left (v \\right )} \\cos^{2}{\\left (v \\right )}\\end{matrix}\\right]$$"
      ],
      "text/plain": [
       "⎡                    2   ⎤\n",
       "⎢-2⋅sin(v)⋅cos(u)⋅cos (v)⎥\n",
       "⎢                        ⎥\n",
       "⎢        sin(4⋅v)        ⎥\n",
       "⎢                        ⎥\n",
       "⎢                    2   ⎥\n",
       "⎣-2⋅sin(u)⋅sin(v)⋅cos (v)⎦"
      ]
     },
     "execution_count": 7,
     "metadata": {},
     "output_type": "execute_result"
    }
   ],
   "source": [
    "#нормаль в точке\n",
    "norm = e_1.cross(e_2)\n",
    "norm.simplify()\n",
    "norm"
   ]
  },
  {
   "cell_type": "code",
   "execution_count": 8,
   "metadata": {
    "collapsed": false
   },
   "outputs": [
    {
     "data": {
      "text/latex": [
       "$$\\left[\\begin{matrix}4 \\sin^{2}{\\left (v \\right )} \\cos^{3}{\\left (v \\right )} & 0\\\\0 & \\left(4 \\sin{\\left (2 v \\right )} + \\sin{\\left (4 v \\right )}\\right) \\sin{\\left (v \\right )}\\end{matrix}\\right]$$"
      ],
      "text/plain": [
       "⎡     2       3                                   ⎤\n",
       "⎢4⋅sin (v)⋅cos (v)                0               ⎥\n",
       "⎢                                                 ⎥\n",
       "⎣        0          (4⋅sin(2⋅v) + sin(4⋅v))⋅sin(v)⎦"
      ]
     },
     "execution_count": 8,
     "metadata": {},
     "output_type": "execute_result"
    }
   ],
   "source": [
    "#вторая квадратичная форма\n",
    "r_u = sp.diff(r, u)\n",
    "r_v = sp.diff(r, v)\n",
    "r_uu = sp.diff(r_u, u)\n",
    "r_uv = sp.diff(r_u, v)\n",
    "r_vu = sp.diff(r_v, u)\n",
    "r_vv = sp.diff(r_v, v)\n",
    "second_form = sp.Matrix([[r_uu.dot(norm), r_uv.dot(norm)], [r_vu.dot(norm), r_vv.dot(norm)]])\n",
    "second_form.simplify()\n",
    "second_form"
   ]
  },
  {
   "cell_type": "code",
   "execution_count": 9,
   "metadata": {
    "collapsed": false
   },
   "outputs": [
    {
     "data": {
      "text/latex": [
       "$$\\left[\\begin{matrix}- \\frac{2}{\\cos{\\left (4 v \\right )} - 1} & 0\\\\0 & \\frac{1}{16 \\sin^{4}{\\left (v \\right )} - 17 \\sin^{2}{\\left (v \\right )} + 5}\\end{matrix}\\right]$$"
      ],
      "text/plain": [
       "⎡    -2                                   ⎤\n",
       "⎢────────────               0             ⎥\n",
       "⎢cos(4⋅v) - 1                             ⎥\n",
       "⎢                                         ⎥\n",
       "⎢                           1             ⎥\n",
       "⎢     0        ───────────────────────────⎥\n",
       "⎢                    4            2       ⎥\n",
       "⎣              16⋅sin (v) - 17⋅sin (v) + 5⎦"
      ]
     },
     "execution_count": 9,
     "metadata": {},
     "output_type": "execute_result"
    }
   ],
   "source": [
    "first_inv = first_form ** (-1)\n",
    "first_inv.simplify()\n",
    "first_inv"
   ]
  },
  {
   "cell_type": "markdown",
   "metadata": {},
   "source": [
    "В силу формулы Эйлера и того, что ищется нормальная кривизна вдоль вектора биссектрисы главных направлений, то $$k = \\frac{\\lambda_1 + \\lambda_2}{2}$$ так как угол между биссектрисой и главными направлениями будет равен $\\cfrac{\\pi}{4}$, и как знаем $\\lambda_1 + \\lambda_2 = trace(BG^{-1})$"
   ]
  },
  {
   "cell_type": "code",
   "execution_count": 10,
   "metadata": {
    "collapsed": false
   },
   "outputs": [
    {
     "data": {
      "text/plain": [
       "'(4*sin(2*v) + sin(4*v))*sin(v)/(2*(16*sin(v)**4 - 17*sin(v)**2 + 5)) - 4*sin(v)**2*cos(v)**3/(cos(4*v) - 1)'"
      ]
     },
     "execution_count": 10,
     "metadata": {},
     "output_type": "execute_result"
    }
   ],
   "source": [
    "ans = (second_form @ first_inv).trace() / 2\n",
    "ans.simplify()\n",
    "str(ans)"
   ]
  }
 ],
 "metadata": {
  "kernelspec": {
   "display_name": "Python 3",
   "language": "python",
   "name": "python3"
  },
  "language_info": {
   "codemirror_mode": {
    "name": "ipython",
    "version": 3
   },
   "file_extension": ".py",
   "mimetype": "text/x-python",
   "name": "python",
   "nbconvert_exporter": "python",
   "pygments_lexer": "ipython3",
   "version": "3.6.0"
  }
 },
 "nbformat": 4,
 "nbformat_minor": 2
}
